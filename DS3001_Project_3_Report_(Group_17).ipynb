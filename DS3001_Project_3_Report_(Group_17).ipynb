{
  "nbformat": 4,
  "nbformat_minor": 0,
  "metadata": {
    "colab": {
      "provenance": [],
      "authorship_tag": "ABX9TyPnzmX8+GX8Swo+iGLccVNR",
      "include_colab_link": true
    },
    "kernelspec": {
      "name": "python3",
      "display_name": "Python 3"
    },
    "language_info": {
      "name": "python"
    }
  },
  "cells": [
    {
      "cell_type": "markdown",
      "metadata": {
        "id": "view-in-github",
        "colab_type": "text"
      },
      "source": [
        "<a href=\"https://colab.research.google.com/github/Catherine-Nguyen88/project_voting/blob/main/DS3001_Project_3_Report_(Group_17).ipynb\" target=\"_parent\"><img src=\"https://colab.research.google.com/assets/colab-badge.svg\" alt=\"Open In Colab\"/></a>"
      ]
    },
    {
      "cell_type": "markdown",
      "source": [
        "\n",
        "**`DS3001 Project 2 (Group 17)`**"
      ],
      "metadata": {
        "id": "3PEmI7q7Go4a"
      }
    },
    {
      "cell_type": "markdown",
      "source": [
        "Isabella Dressel, Camila Gutierrez, Catherine Nguyen, Rhiannon Staley"
      ],
      "metadata": {
        "id": "pPImk3DGGsSL"
      }
    },
    {
      "cell_type": "code",
      "source": [],
      "metadata": {
        "id": "UQeVfvJnGr7p"
      },
      "execution_count": null,
      "outputs": []
    },
    {
      "cell_type": "code",
      "execution_count": null,
      "metadata": {
        "id": "d1Ri5gBrFuRT"
      },
      "outputs": [],
      "source": []
    }
  ]
}