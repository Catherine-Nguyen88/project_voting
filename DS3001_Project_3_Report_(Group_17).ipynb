{
  "nbformat": 4,
  "nbformat_minor": 0,
  "metadata": {
    "colab": {
      "provenance": [],
      "authorship_tag": "ABX9TyP78GpUukKMQBVyHra0p6T/",
      "include_colab_link": true
    },
    "kernelspec": {
      "name": "python3",
      "display_name": "Python 3"
    },
    "language_info": {
      "name": "python"
    }
  },
  "cells": [
    {
      "cell_type": "markdown",
      "metadata": {
        "id": "view-in-github",
        "colab_type": "text"
      },
      "source": [
        "<a href=\"https://colab.research.google.com/github/Catherine-Nguyen88/project_voting/blob/main/DS3001_Project_3_Report_(Group_17).ipynb\" target=\"_parent\"><img src=\"https://colab.research.google.com/assets/colab-badge.svg\" alt=\"Open In Colab\"/></a>"
      ]
    },
    {
      "cell_type": "markdown",
      "source": [
        "\n",
        "**`DS3001 Project 2 (Group 17)`**"
      ],
      "metadata": {
        "id": "3PEmI7q7Go4a"
      }
    },
    {
      "cell_type": "markdown",
      "source": [
        "Isabella Dressel, Camila Gutierrez, Catherine Nguyen, Rhiannon Staley"
      ],
      "metadata": {
        "id": "pPImk3DGGsSL"
      }
    },
    {
      "cell_type": "markdown",
      "source": [
        "\n",
        "Summary"
      ],
      "metadata": {
        "id": "5gMlQSRJHIsc"
      }
    },
    {
      "cell_type": "markdown",
      "source": [
        "Data"
      ],
      "metadata": {
        "id": "dtiUvph2HJr0"
      }
    },
    {
      "cell_type": "markdown",
      "source": [
        "\n",
        "Results"
      ],
      "metadata": {
        "id": "KQbsK1iiHM0R"
      }
    },
    {
      "cell_type": "markdown",
      "source": [
        "Conclusion"
      ],
      "metadata": {
        "id": "NXWC7tyrK0e0"
      }
    },
    {
      "cell_type": "markdown",
      "source": [
        "Appendix"
      ],
      "metadata": {
        "id": "dA9lJvbMK2Js"
      }
    }
  ]
}